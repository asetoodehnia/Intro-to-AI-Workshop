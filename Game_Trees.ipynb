{
 "cells": [
  {
   "cell_type": "markdown",
   "metadata": {},
   "source": [
    "# Game Trees\n",
    "\n",
    "We are going to try to use the Minimax and Expectimax algorithms to determine an action for Pac-Man to take given the following:\n",
    "\n",
    "![title](files/Pac-Man-Tree.png)\n",
    "\n",
    "First, we need to find a way to model this game tree."
   ]
  },
  {
   "cell_type": "code",
   "execution_count": 1,
   "metadata": {},
   "outputs": [],
   "source": [
    "import networkx as nx"
   ]
  },
  {
   "cell_type": "code",
   "execution_count": 2,
   "metadata": {},
   "outputs": [],
   "source": [
    "Game_Tree = nx.Graph()\n",
    "Game_Tree.add_node(0, value=None) # 0 represents the initial state where it is Pac-Man's turn\n",
    "Game_Tree.add_node(1, value=None) # 1 and 2 represent the two possible states that ...                     \n",
    "Game_Tree.add_node(2, value=None) # can result from Pac-Man's turn where it is the ghost's turn\n",
    "Game_Tree.add_node(3, value=-8) # 3, 4, 5, and 6 represent the states that can result after the ...\n",
    "Game_Tree.add_node(4, value=-5) # different possible ghost moves\n",
    "Game_Tree.add_node(5, value=-10)\n",
    "Game_Tree.add_node(6, value=8)\n",
    "\n",
    "Game_Tree.add_edge(0, 1)\n",
    "Game_Tree.add_edge(0, 2)\n",
    "Game_Tree.add_edge(1, 3)\n",
    "Game_Tree.add_edge(2, 5)\n",
    "Game_Tree.add_edge(2, 6)"
   ]
  },
  {
   "cell_type": "markdown",
   "metadata": {},
   "source": [
    "By inspection, we can see that if we use the Minimax algorithm to assume that the Ghost will always choose to minimize Pac-Man's chances of winning, Pac-Man's best bet is to move to the LEFT.  Let's now try to verify our observation by implementing a Minimax Agent!"
   ]
  },
  {
   "cell_type": "code",
   "execution_count": null,
   "metadata": {},
   "outputs": [],
   "source": [
    "class MinimaxAgent:\n",
    "    \"\"\"\n",
    "      Your minimax agent\n",
    "    \"\"\"\n",
    "    def __init__(self, game_tree):\n",
    "        self.game_tree = game_tree\n",
    "\n",
    "    def getAction(self, game_tree):\n",
    "        result = self.value(game_tree, 0)\n",
    "        return result[1]\n",
    "\n",
    "    def value(self, game_tree, agent):\n",
    "        if depth == self.depth or gameState.isWin() or gameState.isLose():\n",
    "            return [self.evaluationFunction(gameState)]\n",
    "        elif agent == 0:\n",
    "            return self.maxValue(gameState, agent, depth)\n",
    "        return self.minValue(gameState, agent, depth)\n",
    "\n",
    "    def maxValue(self, gameState, agent, depth):\n",
    "        val = -MAX_INT\n",
    "        result = None\n",
    "        actions = gameState.getLegalActions(agent)\n",
    "        for action in actions:\n",
    "            newState = gameState.generateSuccessor(agent, action)\n",
    "            newVal = self.value(newState, agent + 1, depth)\n",
    "            if newVal[0] > val:\n",
    "                result, val = [newVal[0], action], newVal[0]\n",
    "        return result\n",
    "\n",
    "    def minValue(self, gameState, agent, depth):\n",
    "        val = MAX_INT\n",
    "        result = None\n",
    "        actions = gameState.getLegalActions(agent)\n",
    "        for action in actions:\n",
    "            newState = gameState.generateSuccessor(agent, action)\n",
    "            newVal = self.value(newState, agent + 1, depth)\n",
    "            if newVal[0] < val:\n",
    "                result, val = [newVal[0], action], newVal[0]\n",
    "        return result"
   ]
  }
 ],
 "metadata": {
  "kernelspec": {
   "display_name": "Python 3",
   "language": "python",
   "name": "python3"
  },
  "language_info": {
   "codemirror_mode": {
    "name": "ipython",
    "version": 3
   },
   "file_extension": ".py",
   "mimetype": "text/x-python",
   "name": "python",
   "nbconvert_exporter": "python",
   "pygments_lexer": "ipython3",
   "version": "3.6.3"
  }
 },
 "nbformat": 4,
 "nbformat_minor": 2
}
