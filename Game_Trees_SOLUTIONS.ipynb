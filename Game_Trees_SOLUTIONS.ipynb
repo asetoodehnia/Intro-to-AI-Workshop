{
 "cells": [
  {
   "cell_type": "markdown",
   "metadata": {},
   "source": [
    "# Game Trees\n",
    "\n",
    "We are going to try to use the Minimax and Expectimax algorithms to determine an action for Pac-Man to take given the following:\n",
    "\n",
    "![title](files/Pac-Man-Tree.png)\n",
    "\n",
    "First, we need to find a way to model this game tree."
   ]
  },
  {
   "cell_type": "code",
   "execution_count": 1,
   "metadata": {},
   "outputs": [],
   "source": [
    "import networkx as nx"
   ]
  },
  {
   "cell_type": "code",
   "execution_count": 2,
   "metadata": {},
   "outputs": [],
   "source": [
    "Game_Tree = nx.DiGraph()\n",
    "Game_Tree.add_node(0, is_terminal=False) # 0 represents the initial state where it is Pac-Man's turn\n",
    "Game_Tree.add_node(1, is_terminal=False) # 1 and 2 represent the two possible states that ...                     \n",
    "Game_Tree.add_node(2, is_terminal=False) # can result from Pac-Man's turn where it is the ghost's turn\n",
    "Game_Tree.add_node(3, value=-8, is_terminal=True) # 3, 4, 5, and 6 represent the states that can result after the ...\n",
    "Game_Tree.add_node(4, value=-5, is_terminal=True) # different possible ghost moves\n",
    "Game_Tree.add_node(5, value=-10, is_terminal=True)\n",
    "Game_Tree.add_node(6, value=8, is_terminal=True)\n",
    "\n",
    "Game_Tree.add_edge(0, 1)\n",
    "Game_Tree.add_edge(0, 2)\n",
    "Game_Tree.add_edge(1, 3)\n",
    "Game_Tree.add_edge(1, 4)\n",
    "Game_Tree.add_edge(2, 5)\n",
    "Game_Tree.add_edge(2, 6)"
   ]
  },
  {
   "cell_type": "markdown",
   "metadata": {},
   "source": [
    "By inspection, we can see that if we use the Minimax algorithm to assume that the Ghost will always choose to minimize Pac-Man's chances of winning, Pac-Man's best bet is to move to the LEFT.  Let's now try to verify our observation by implementing a Minimax Agent!"
   ]
  },
  {
   "cell_type": "code",
   "execution_count": 3,
   "metadata": {},
   "outputs": [],
   "source": [
    "class MinimaxAgent:\n",
    "    \"\"\"\n",
    "      Your minimax agent\n",
    "    \"\"\"\n",
    "    def __init__(self, game_tree):\n",
    "        self.game_tree = game_tree\n",
    "\n",
    "    def getAction(self):\n",
    "        result = self.value(0)\n",
    "        if result[1] == 1:\n",
    "            return \"LEFT\"\n",
    "        return \"RIGHT\"\n",
    "\n",
    "    def value(self, node):\n",
    "        if self.game_tree.node[node]['is_terminal']:\n",
    "            return [self.game_tree.node[node]['value']]\n",
    "        elif node == 0:\n",
    "            return self.maxValue(node)\n",
    "        return self.minValue(node)\n",
    "\n",
    "    def maxValue(self, node):\n",
    "        val = -float(\"inf\")\n",
    "        result = None\n",
    "        for neighbor in self.game_tree.neighbors(node):\n",
    "            newVal = self.value(neighbor)\n",
    "            if newVal[0] > val:\n",
    "                result, val = [newVal[0], neighbor], newVal[0]\n",
    "        return result\n",
    "\n",
    "    def minValue(self, node):\n",
    "        val = float(\"inf\")\n",
    "        result = None\n",
    "        for neighbor in self.game_tree.neighbors(node):\n",
    "            newVal = self.value(neighbor)\n",
    "            if newVal[0] < val:\n",
    "                result, val = [newVal[0], neighbor], newVal[0]\n",
    "        return result"
   ]
  },
  {
   "cell_type": "code",
   "execution_count": 4,
   "metadata": {},
   "outputs": [],
   "source": [
    "Pac_Man_agent = MinimaxAgent(Game_Tree)"
   ]
  },
  {
   "cell_type": "code",
   "execution_count": 5,
   "metadata": {},
   "outputs": [
    {
     "data": {
      "text/plain": [
       "'LEFT'"
      ]
     },
     "execution_count": 5,
     "metadata": {},
     "output_type": "execute_result"
    }
   ],
   "source": [
    "Pac_Man_agent.getAction()"
   ]
  },
  {
   "cell_type": "markdown",
   "metadata": {},
   "source": [
    "Great Job!  You have just successfully implemented a Minimax Agent!!  Now, because we know the at times, the Ghost may actually make poor decisions and behave suboptimally, let's try to model the same game tree using an Expectimax Agent (we can see by observation that an Expectimax Agent should go to the RIGHT)!"
   ]
  },
  {
   "cell_type": "code",
   "execution_count": 6,
   "metadata": {},
   "outputs": [],
   "source": [
    "class ExpectimaxAgent:\n",
    "    \"\"\"\n",
    "      Your expectimax agent (question 4)\n",
    "    \"\"\"\n",
    "\n",
    "    def __init__(self, game_tree):\n",
    "        self.game_tree = game_tree\n",
    "\n",
    "    def getAction(self):\n",
    "        result = self.value(0)\n",
    "        if result[1] == 1:\n",
    "            return \"LEFT\"\n",
    "        return \"RIGHT\"\n",
    "\n",
    "    def value(self, node):\n",
    "        if self.game_tree.node[node]['is_terminal']:\n",
    "            return [self.game_tree.node[node]['value']]\n",
    "        elif node == 0:\n",
    "            return self.maxValue(node)\n",
    "        return self.expValue(node)\n",
    "\n",
    "    def maxValue(self, node):\n",
    "        val = -float(\"inf\")\n",
    "        result = None\n",
    "        for neighbor in self.game_tree.neighbors(node):\n",
    "            newVal = self.value(neighbor)\n",
    "            if newVal[0] > val:\n",
    "                result, val = [newVal[0], neighbor], newVal[0]\n",
    "        return result\n",
    "\n",
    "    def expValue(self, node):\n",
    "        val = 0\n",
    "        result = None\n",
    "        neighbors = [n for n in self.game_tree.neighbors(node)]\n",
    "        p = 1.0/len(neighbors)\n",
    "        for neighbor in neighbors:\n",
    "            newVal = self.value(neighbor)    \n",
    "            val += p*newVal[0]\n",
    "            result = [val, neighbor]\n",
    "        return result"
   ]
  },
  {
   "cell_type": "code",
   "execution_count": 7,
   "metadata": {},
   "outputs": [],
   "source": [
    "Pac_Man_exp_agent = ExpectimaxAgent(Game_Tree)"
   ]
  },
  {
   "cell_type": "code",
   "execution_count": 8,
   "metadata": {},
   "outputs": [
    {
     "data": {
      "text/plain": [
       "'RIGHT'"
      ]
     },
     "execution_count": 8,
     "metadata": {},
     "output_type": "execute_result"
    }
   ],
   "source": [
    "Pac_Man_exp_agent.getAction()"
   ]
  },
  {
   "cell_type": "markdown",
   "metadata": {},
   "source": [
    "# CONGRATULATIONS!  YOU FINISHED!"
   ]
  }
 ],
 "metadata": {
  "kernelspec": {
   "display_name": "Python 3",
   "language": "python",
   "name": "python3"
  },
  "language_info": {
   "codemirror_mode": {
    "name": "ipython",
    "version": 3
   },
   "file_extension": ".py",
   "mimetype": "text/x-python",
   "name": "python",
   "nbconvert_exporter": "python",
   "pygments_lexer": "ipython3",
   "version": "3.6.3"
  }
 },
 "nbformat": 4,
 "nbformat_minor": 2
}
