{
 "cells": [
  {
   "cell_type": "markdown",
   "metadata": {},
   "source": [
    "# Creating and Training Neural Networks"
   ]
  },
  {
   "cell_type": "code",
   "execution_count": null,
   "metadata": {
    "collapsed": true
   },
   "outputs": [],
   "source": [
    "import numpy as np"
   ]
  },
  {
   "cell_type": "markdown",
   "metadata": {},
   "source": [
    "## MNIST Handwriting Recognition with a Neural Network\n",
    "MNIST is a publically available dataset of handwritten digits 0-9 used to train simple image recognition. Each image is 28x28 or 784 pixels. This means the network cells have to have 784 different inputs and weights"
   ]
  },
  {
   "cell_type": "markdown",
   "metadata": {},
   "source": [
    "<img src=\"files/single_cell_nn.svg\"></img>"
   ]
  },
  {
   "cell_type": "markdown",
   "metadata": {},
   "source": [
    "We can make a network of 10 of just 10 of these cells, one to predict each different possible output."
   ]
  },
  {
   "cell_type": "markdown",
   "metadata": {},
   "source": [
    "<img src=\"files/10_cell_nn.svg\"></img>"
   ]
  },
  {
   "cell_type": "markdown",
   "metadata": {},
   "source": [
    "## Getting the dataset\n",
    "First we have to import the mnist data"
   ]
  },
  {
   "cell_type": "code",
   "execution_count": null,
   "metadata": {
    "collapsed": true
   },
   "outputs": [],
   "source": [
    "import os\n",
    "import struct\n",
    "import numpy as np\n",
    "\n",
    "\"\"\"\n",
    "All code in this cell is from https://gist.github.com/akesling/5358964\n",
    "\"\"\"\n",
    "\n",
    "def read(dataset = \"training\", path = \"./files/MNIST_data/\"):\n",
    "    \"\"\"\n",
    "    Python function for importing the MNIST data set.  It returns an iterator\n",
    "    of 2-tuples with the first element being the label and the second element\n",
    "    being a numpy.uint8 2D array of pixel data for the given image.\n",
    "    \"\"\"\n",
    "\n",
    "    if dataset is \"training\":\n",
    "        fname_img = os.path.join(path, 'train-images-idx3-ubyte')\n",
    "        fname_lbl = os.path.join(path, 'train-labels-idx1-ubyte')\n",
    "    elif dataset is \"testing\":\n",
    "        fname_img = os.path.join(path, 't10k-images-idx3-ubyte')\n",
    "        fname_lbl = os.path.join(path, 't10k-labels-idx1-ubyte')\n",
    "    else:\n",
    "        raise ValueError(\"dataset must be 'testing' or 'training'\")\n",
    "\n",
    "    # Load everything in some numpy arrays\n",
    "    with open(fname_lbl, 'rb') as flbl:\n",
    "        magic, num = struct.unpack(\">II\", flbl.read(8))\n",
    "        lbl = np.fromfile(flbl, dtype=np.int8)\n",
    "\n",
    "    with open(fname_img, 'rb') as fimg:\n",
    "        magic, num, rows, cols = struct.unpack(\">IIII\", fimg.read(16))\n",
    "        img = np.fromfile(fimg, dtype=np.uint8).reshape(len(lbl), rows, cols)\n",
    "\n",
    "    get_img = lambda idx: (lbl[idx], img[idx])\n",
    "\n",
    "    # Create an iterator which returns each image in turn\n",
    "    for i in range(len(lbl)):\n",
    "        yield get_img(i)\n",
    "\n",
    "def show(image):\n",
    "    \"\"\"\n",
    "    Render a given numpy.uint8 2D array of pixel data.\n",
    "    \"\"\"\n",
    "    from matplotlib import pyplot\n",
    "    import matplotlib as mpl\n",
    "    fig = pyplot.figure()\n",
    "    ax = fig.add_subplot(1,1,1)\n",
    "    imgplot = ax.imshow(image, cmap=mpl.cm.Greys)\n",
    "    imgplot.set_interpolation('nearest')\n",
    "    pyplot.show()"
   ]
  },
  {
   "cell_type": "markdown",
   "metadata": {},
   "source": [
    "Let's see if we're able to read the images now"
   ]
  },
  {
   "cell_type": "code",
   "execution_count": null,
   "metadata": {
    "collapsed": true
   },
   "outputs": [],
   "source": [
    "def load_set(dataset=\"training\"):\n",
    "    image_generator = read(dataset)\n",
    "    images = []\n",
    "    while True:\n",
    "        try:\n",
    "            image = next(image_generator)\n",
    "            images.append(image)\n",
    "        except StopIteration:\n",
    "            break\n",
    "    return images\n",
    "\n",
    "images = load_set(\"training\")\n",
    "test_images = load_set(\"testing\")\n",
    "show(images[0][1])"
   ]
  },
  {
   "cell_type": "markdown",
   "metadata": {},
   "source": [
    "In order for these images to work with our neural net design they'll need to be reshaped to a single vector instead of a matrix and converted to binary instead of 0-255"
   ]
  },
  {
   "cell_type": "code",
   "execution_count": null,
   "metadata": {
    "collapsed": true
   },
   "outputs": [],
   "source": [
    "DESIRED_OUTPUTS = np.zeros((len(images), 10))\n",
    "for i in range(len(images)):\n",
    "    DESIRED_OUTPUTS[i][images[i][0]] = 1\n",
    "transformed_images = [np.greater(np.reshape(image[1],(28*28)), 0).astype(\"int\") for image in images]\n",
    "training_images = [(DESIRED_OUTPUTS[i], transformed_images[i]) for i in range(len(transformed_images))]\n",
    "test_labels = [image[0] for image in test_images]\n",
    "test_images = [np.greater(np.reshape(image[1],(28*28)),0).astype(\"int\") for image in test_images]"
   ]
  },
  {
   "cell_type": "markdown",
   "metadata": {},
   "source": [
    "## Setting up the neural network\n",
    "Fill in the code blocks to create a functional neural network"
   ]
  },
  {
   "cell_type": "code",
   "execution_count": null,
   "metadata": {
    "collapsed": true
   },
   "outputs": [],
   "source": [
    "NUM_INPUTS = 28*28\n",
    "LEARNING_RATE = .02\n",
    "\n",
    "# Variables for you to work with:\n",
    "# TRAINING_IMAGES: A list of (label, image) tuples where the label has shape (10,) with a 1 in the correct index\n",
    "#                  and the image is a binary list of length 784\n",
    "# images: If you'd prefer to get the labels numerically (1 instead of [0,1,0,...]) images is a list of (label, image) tuples,\n",
    "#         just make sure not to use the image portion of this tuple.\n",
    "\n",
    "\n",
    "class perceptron:\n",
    "    def __init__(self):\n",
    "        # *** YOUR CODE HERE ***\n",
    "        self.inputs = None\n",
    "        self.weights = None # It is recommended to randomly assign the weights to 0 or 1\n",
    "        self.output = None\n",
    "    \n",
    "    def calculate(self):\n",
    "        # *** YOUR CODE HERE ***\n",
    "        self.output = None # You should normalize the output so that it is between 0 and 1\n",
    "        return self.output\n",
    "\n",
    "    def classify(self, image):\n",
    "        # Helper method to streamline the process\n",
    "        self.inputs = image\n",
    "        return self.calculate()\n",
    "    \n",
    "    def train(self, image, expected):\n",
    "        # *** YOUR CODE HERE ***\n",
    "        error = 0\n",
    "        self.weights += 0\n",
    "\n",
    "# A network of 10 cells, one cell for each digit\n",
    "class network:\n",
    "    def __init__(self):\n",
    "        self.cells = [perceptron() for i in range(10)]\n",
    "    \n",
    "    def train(self, image, expected):\n",
    "        for i in range(10):\n",
    "            self.cells[i].train(image, expected[i])\n",
    "    \n",
    "    def classify(self, image):\n",
    "        return np.argmax([cell.classify(image) for cell in self.cells])"
   ]
  },
  {
   "cell_type": "markdown",
   "metadata": {},
   "source": [
    "## Testing\n",
    "Train your network on the training data and get its training and test set accuracy (the training should take approximately 1 minute)"
   ]
  },
  {
   "cell_type": "code",
   "execution_count": null,
   "metadata": {},
   "outputs": [],
   "source": [
    "nn = network()\n",
    "for image in training_images:\n",
    "    nn.train(image[1], image[0])"
   ]
  },
  {
   "cell_type": "code",
   "execution_count": null,
   "metadata": {
    "collapsed": true
   },
   "outputs": [],
   "source": [
    "ncorrect_training = np.sum([(nn.classify(training_images[i][1]) == images[i][0]) for i in range(len(training_images))])\n",
    "ncorrect_test = np.sum([(nn.classify(test_images[i]) == test_labels[i]) for i in range(len(test_images))])\n",
    "print(\"The training accuracy is \" + str(ncorrect_training/len(training_images)))\n",
    "print(\"The test accuracy is \" + str(ncorrect_test/len(test_images)))"
   ]
  },
  {
   "cell_type": "markdown",
   "metadata": {},
   "source": [
    "Take a look at some of the labels your network produced for these images. Why do you think your network got the solution it did?"
   ]
  },
  {
   "cell_type": "code",
   "execution_count": null,
   "metadata": {
    "collapsed": true
   },
   "outputs": [],
   "source": [
    "for i in  [56952, 4905, 36314, 44236]:\n",
    "    print(\"Image index \" + str(i))\n",
    "    expected = images[i][0]\n",
    "    predicted = nn.classify(training_images[i][1])\n",
    "    print(\"Your neural network classified this as a \" + str(predicted) + \". The expected label was \" + str(expected))\n",
    "    show(images[i][1])"
   ]
  }
 ],
 "metadata": {
  "kernelspec": {
   "display_name": "Python 3",
   "language": "python",
   "name": "python3"
  },
  "language_info": {
   "codemirror_mode": {
    "name": "ipython",
    "version": 3
   },
   "file_extension": ".py",
   "mimetype": "text/x-python",
   "name": "python",
   "nbconvert_exporter": "python",
   "pygments_lexer": "ipython3",
   "version": "3.5.1"
  }
 },
 "nbformat": 4,
 "nbformat_minor": 2
}
