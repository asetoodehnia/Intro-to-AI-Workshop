{
 "cells": [
  {
   "cell_type": "markdown",
   "metadata": {},
   "source": [
    "# Search"
   ]
  },
  {
   "cell_type": "code",
   "execution_count": 2,
   "metadata": {},
   "outputs": [],
   "source": [
    "import networkx as nx"
   ]
  },
  {
   "cell_type": "markdown",
   "metadata": {},
   "source": [
    "## Problem Setup\n",
    "\n",
    "First we need to define the search problem that we need to solve.  Here in this demo we are only going to tackle a classic search through a graph.  If you want to see the CS188 Search project which incorporates Pac-Man then head to this link: http://ai.berkeley.edu/search.html."
   ]
  },
  {
   "cell_type": "code",
   "execution_count": 6,
   "metadata": {},
   "outputs": [],
   "source": [
    "class SearchProblem:\n",
    "    \"\"\"\n",
    "    This class outlines the structure of a search problem.\n",
    "    \"\"\"\n",
    "    def __init__(self, graph, start_state, goal_state):\n",
    "        self.graph = graph\n",
    "        self.start_state = start_state\n",
    "        self.goal_state = goal_state\n",
    "\n",
    "    def getStartState(self):\n",
    "        \"\"\"\n",
    "        Returns the start state for the search problem.\n",
    "        \"\"\"\n",
    "        return self.start_state\n",
    "\n",
    "    def isGoalState(self, state):\n",
    "        \"\"\"\n",
    "          state: Search state\n",
    "\n",
    "        Returns True if and only if the state is a valid goal state.\n",
    "        \"\"\"\n",
    "        return self.graph.node[state]['has_dot']\n",
    "\n",
    "    def getSuccessors(self, state):\n",
    "        \"\"\"\n",
    "          state: Search state\n",
    "\n",
    "        For a given state, this should return a list of triples, (successor, stepCost), \n",
    "        where 'successor' is a successor to the current state and 'stepCost' \n",
    "        is the incremental cost of expanding to that successor.\n",
    "        \"\"\"\n",
    "        return [(s, self.graph[state][s]['weight']) for s in self.graph.neighbors(state)]"
   ]
  },
  {
   "cell_type": "markdown",
   "metadata": {},
   "source": [
    "The above problem set-up assumes that you construct a search problem based on a Graph input.  Obviously, we could just run regular graph traversals on any given graph if we wanted to find a way from point A to point B.  But this allows us to have multiple goal nodes!  For example, in the Pac-Man situation, the goal might be to collect a single food pellet as quickly as possible, yet there may be multiple food pellets around the grid.  Thus, in our graph analogy, there may be multpile nodes which would be valid solutions!\n",
    "\n",
    "Here we will construct a graph to model the aforementioned Pac-Man problem of trying to eat a single food pellet.  Each node will represent an intersection on the Pac-Man grid and each edge between them will have a weight equal to the length of the path from one intersection to the next."
   ]
  },
  {
   "cell_type": "code",
   "execution_count": null,
   "metadata": {},
   "outputs": [],
   "source": [
    "G = nx.Graph()\n",
    "\n",
    "for i in range(10):\n",
    "    G.add_node(i)\n",
    "    \n",
    "# G.add_edge(0, 1, weight=)\n",
    "    "
   ]
  }
 ],
 "metadata": {
  "kernelspec": {
   "display_name": "Python 3",
   "language": "python",
   "name": "python3"
  },
  "language_info": {
   "codemirror_mode": {
    "name": "ipython",
    "version": 3
   },
   "file_extension": ".py",
   "mimetype": "text/x-python",
   "name": "python",
   "nbconvert_exporter": "python",
   "pygments_lexer": "ipython3",
   "version": "3.6.3"
  }
 },
 "nbformat": 4,
 "nbformat_minor": 2
}
