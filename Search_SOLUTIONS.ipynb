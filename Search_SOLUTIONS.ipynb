{
 "cells": [
  {
   "cell_type": "markdown",
   "metadata": {},
   "source": [
    "# Search"
   ]
  },
  {
   "cell_type": "code",
   "execution_count": 1,
   "metadata": {},
   "outputs": [],
   "source": [
    "import networkx as nx"
   ]
  },
  {
   "cell_type": "markdown",
   "metadata": {},
   "source": [
    "## Problem Setup\n",
    "\n",
    "First we need to define the search problem that we need to solve.  Here in this demo we are only going to tackle a classic search through a graph.  If you want to see the CS188 Search project which incorporates Pac-Man then head to this link: http://ai.berkeley.edu/search.html."
   ]
  },
  {
   "cell_type": "code",
   "execution_count": 2,
   "metadata": {},
   "outputs": [],
   "source": [
    "class SearchProblem:\n",
    "    \"\"\"\n",
    "    This class outlines the structure of a search problem.\n",
    "    \"\"\"\n",
    "    def __init__(self, graph, start_state, manhattan_distances):\n",
    "        self.graph = graph\n",
    "        self.start_state = start_state\n",
    "        self.manhattan_distances = manhattan_distances\n",
    "\n",
    "    def getStartState(self):\n",
    "        \"\"\"\n",
    "        Returns the start state for the search problem.\n",
    "        \"\"\"\n",
    "        return self.start_state\n",
    "\n",
    "    def isGoalState(self, state):\n",
    "        \"\"\"\n",
    "          state: Search state\n",
    "\n",
    "        Returns True if and only if the state is a valid goal state.\n",
    "        \"\"\"\n",
    "        return self.graph.node[state]['food']\n",
    "\n",
    "    def getSuccessors(self, state):\n",
    "        \"\"\"\n",
    "          state: Search state\n",
    "\n",
    "        For a given state, this should return a list of triples, (successor, stepCost), \n",
    "        where 'successor' is a successor to the current state and 'stepCost' \n",
    "        is the incremental cost of expanding to that successor.\n",
    "        \"\"\"\n",
    "        return [(s, self.graph[state][s]['weight']) for s in self.graph.neighbors(state)]"
   ]
  },
  {
   "cell_type": "markdown",
   "metadata": {},
   "source": [
    "The above problem set-up assumes that you construct a search problem based on a Graph input.  Obviously, we could just run regular graph traversals on any given graph if we wanted to find a way from point A to point B.  But this allows us to have multiple goal nodes!  For example, in the Pac-Man situation, the goal might be to collect a single food pellet as quickly as possible, yet there may be multiple food pellets around the grid.  Thus, in our graph analogy, there may be multpile nodes which would be valid solutions!\n",
    "\n",
    "Here we will construct a graph to model the aforementioned Pac-Man problem of trying to eat a single food pellet.  Each node will represent an intersection on the Pac-Man grid and each edge between them will have a weight equal to the length of the path from one intersection to the next."
   ]
  },
  {
   "cell_type": "code",
   "execution_count": 3,
   "metadata": {},
   "outputs": [],
   "source": [
    "G = nx.Graph()\n",
    "\n",
    "for i in range(10):\n",
    "    G.add_node(i, food=False)\n",
    "    \n",
    "G.add_edge(0, 1, weight=4)\n",
    "G.add_edge(0, 2, weight=2)\n",
    "G.add_edge(1, 3, weight=2)\n",
    "G.add_edge(2, 5, weight=1)\n",
    "G.add_edge(3, 4, weight=1)\n",
    "G.add_edge(4, 7, weight=1)\n",
    "G.add_edge(5, 6, weight=1)\n",
    "G.add_edge(6, 7, weight=2)\n",
    "G.add_edge(7, 8, weight=1)\n",
    "G.add_edge(8, 9, weight=1)\n",
    "\n",
    "G.node[9]['food'] = True\n",
    "\n",
    "manhattan_distances = {0:8, 1:4, 2:6, 3:2, 4:3, 5:5, 6:4, 7:2, 8:1, 9:0}"
   ]
  },
  {
   "cell_type": "markdown",
   "metadata": {},
   "source": [
    "Now let's just quickly define some utils that will help us write our search code:"
   ]
  },
  {
   "cell_type": "code",
   "execution_count": 4,
   "metadata": {},
   "outputs": [],
   "source": [
    "import heapq\n",
    "\n",
    "class Stack:\n",
    "    \"A container with a last-in-first-out (LIFO) queuing policy.\"\n",
    "    def __init__(self):\n",
    "        self.list = []\n",
    "\n",
    "    def push(self,item):\n",
    "        \"Push 'item' onto the stack\"\n",
    "        self.list.append(item)\n",
    "\n",
    "    def pop(self):\n",
    "        \"Pop the most recently pushed item from the stack\"\n",
    "        return self.list.pop()\n",
    "\n",
    "    def isEmpty(self):\n",
    "        \"Returns true if the stack is empty\"\n",
    "        return len(self.list) == 0\n",
    "\n",
    "class Queue:\n",
    "    \"A container with a first-in-first-out (FIFO) queuing policy.\"\n",
    "    def __init__(self):\n",
    "        self.list = []\n",
    "\n",
    "    def push(self,item):\n",
    "        \"Enqueue the 'item' into the queue\"\n",
    "        self.list.insert(0,item)\n",
    "\n",
    "    def pop(self):\n",
    "        \"\"\"\n",
    "          Dequeue the earliest enqueued item still in the queue. This\n",
    "          operation removes the item from the queue.\n",
    "        \"\"\"\n",
    "        return self.list.pop()\n",
    "\n",
    "    def isEmpty(self):\n",
    "        \"Returns true if the queue is empty\"\n",
    "        return len(self.list) == 0\n",
    "\n",
    "class PriorityQueue:\n",
    "    \"\"\"\n",
    "      Implements a priority queue data structure. Each inserted item\n",
    "      has a priority associated with it and the client is usually interested\n",
    "      in quick retrieval of the lowest-priority item in the queue. This\n",
    "      data structure allows O(1) access to the lowest-priority item.\n",
    "    \"\"\"\n",
    "    def  __init__(self):\n",
    "        self.heap = []\n",
    "        self.count = 0\n",
    "\n",
    "    def push(self, item, priority):\n",
    "        entry = (priority, self.count, item)\n",
    "        heapq.heappush(self.heap, entry)\n",
    "        self.count += 1\n",
    "\n",
    "    def pop(self):\n",
    "        (_, _, item) = heapq.heappop(self.heap)\n",
    "        return item\n",
    "\n",
    "    def isEmpty(self):\n",
    "        return len(self.heap) == 0\n",
    "\n",
    "    def update(self, item, priority):\n",
    "        # If item already in priority queue with higher priority, update its priority and rebuild the heap.\n",
    "        # If item already in priority queue with equal or lower priority, do nothing.\n",
    "        # If item not in priority queue, do the same thing as self.push.\n",
    "        for index, (p, c, i) in enumerate(self.heap):\n",
    "            if i == item:\n",
    "                if p <= priority:\n",
    "                    break\n",
    "                del self.heap[index]\n",
    "                self.heap.append((priority, c, item))\n",
    "                heapq.heapify(self.heap)\n",
    "                break\n",
    "        else:\n",
    "            self.push(item, priority)"
   ]
  },
  {
   "cell_type": "markdown",
   "metadata": {},
   "source": [
    "### Now... onto the good stuff!\n",
    "\n",
    "We are going to try to fill in the following functions to implement DFS, BFS, UCS, and A* search (Hint: after doing the first, it's pretty much copying and pasting from there!)."
   ]
  },
  {
   "cell_type": "code",
   "execution_count": 5,
   "metadata": {},
   "outputs": [],
   "source": [
    "problem = SearchProblem(G, 0, manhattan_distances)"
   ]
  },
  {
   "cell_type": "markdown",
   "metadata": {},
   "source": [
    "#### DFS Implementation"
   ]
  },
  {
   "cell_type": "code",
   "execution_count": 6,
   "metadata": {},
   "outputs": [],
   "source": [
    "def depthFirstSearch(problem):\n",
    "    \"\"\"\n",
    "    Search the deepest nodes in the search tree first.\n",
    "    \"\"\"\n",
    "    fringe = Stack()\n",
    "    start_state = problem.getStartState()\n",
    "    fringe.push((start_state, [start_state], 0))\n",
    "    closed_set = []\n",
    "\n",
    "    while not fringe.isEmpty():\n",
    "        node = fringe.pop()\n",
    "        curr_state = node[0]\n",
    "        curr_path = node[1]\n",
    "        curr_cost = node[2]\n",
    "        if problem.isGoalState(curr_state):\n",
    "            return curr_path\n",
    "        if curr_state not in closed_set:\n",
    "            closed_set.append(curr_state)\n",
    "            for successor in problem.getSuccessors(curr_state):\n",
    "                fringe.push((successor[0], curr_path + [successor[0]], curr_cost + successor[1]))"
   ]
  },
  {
   "cell_type": "code",
   "execution_count": 7,
   "metadata": {},
   "outputs": [
    {
     "data": {
      "text/plain": [
       "[0, 2, 5, 6, 7, 8, 9]"
      ]
     },
     "execution_count": 7,
     "metadata": {},
     "output_type": "execute_result"
    }
   ],
   "source": [
    "depthFirstSearch(problem)"
   ]
  },
  {
   "cell_type": "markdown",
   "metadata": {},
   "source": [
    "#### BFS Implementation"
   ]
  },
  {
   "cell_type": "code",
   "execution_count": 8,
   "metadata": {},
   "outputs": [],
   "source": [
    "def breadthFirstSearch(problem):\n",
    "    \"\"\"Search the shallowest nodes in the search tree first.\"\"\"\n",
    "    fringe = Queue()\n",
    "    start_state = problem.getStartState()\n",
    "    fringe.push((start_state, [start_state], 0))\n",
    "    closed_set = []\n",
    "\n",
    "    while not fringe.isEmpty():\n",
    "        node = fringe.pop()\n",
    "        curr_state = node[0]\n",
    "        curr_path = node[1]\n",
    "        curr_cost = node[2]\n",
    "        if problem.isGoalState(curr_state):\n",
    "            return curr_path\n",
    "        if curr_state not in closed_set:\n",
    "            closed_set.append(curr_state)\n",
    "            for successor in problem.getSuccessors(curr_state):\n",
    "                fringe.push((successor[0], curr_path + [successor[0]], curr_cost + successor[1]))"
   ]
  },
  {
   "cell_type": "code",
   "execution_count": 9,
   "metadata": {},
   "outputs": [
    {
     "data": {
      "text/plain": [
       "[0, 1, 3, 4, 7, 8, 9]"
      ]
     },
     "execution_count": 9,
     "metadata": {},
     "output_type": "execute_result"
    }
   ],
   "source": [
    "breadthFirstSearch(problem)"
   ]
  },
  {
   "cell_type": "markdown",
   "metadata": {},
   "source": [
    "#### UCS Implementation"
   ]
  },
  {
   "cell_type": "code",
   "execution_count": 10,
   "metadata": {},
   "outputs": [],
   "source": [
    "def uniformCostSearch(problem):\n",
    "    \"\"\"Search the node of least total cost first.\"\"\"\n",
    "    fringe = PriorityQueue()\n",
    "    start_state = problem.getStartState()\n",
    "    fringe.push((start_state, [start_state], 0), 0)\n",
    "    closed_set = []\n",
    "\n",
    "    while not fringe.isEmpty():\n",
    "        node = fringe.pop()\n",
    "        curr_state = node[0]\n",
    "        curr_path = node[1]\n",
    "        curr_cost = node[2]\n",
    "        if problem.isGoalState(curr_state):\n",
    "            return curr_path\n",
    "        if curr_state not in closed_set:\n",
    "            closed_set.append(curr_state)\n",
    "            for successor in problem.getSuccessors(curr_state):\n",
    "                fringe.update((successor[0], curr_path + [successor[0]], \n",
    "                               curr_cost + successor[1]), curr_cost + successor[1])"
   ]
  },
  {
   "cell_type": "code",
   "execution_count": 11,
   "metadata": {},
   "outputs": [
    {
     "data": {
      "text/plain": [
       "[0, 2, 5, 6, 7, 8, 9]"
      ]
     },
     "execution_count": 11,
     "metadata": {},
     "output_type": "execute_result"
    }
   ],
   "source": [
    "uniformCostSearch(problem)"
   ]
  },
  {
   "cell_type": "markdown",
   "metadata": {},
   "source": [
    "#### A* Implementation"
   ]
  },
  {
   "cell_type": "code",
   "execution_count": 12,
   "metadata": {},
   "outputs": [],
   "source": [
    "def manhattanHeuristic(state, problem=None):\n",
    "    \"\"\"\n",
    "    A heuristic function estimates the cost from the current state to the nearest\n",
    "    goal in the provided SearchProblem.  This heuristic is trivial.\n",
    "    \"\"\"\n",
    "    return problem.manhattan_distances[state]\n",
    "\n",
    "def aStarSearch(problem, heuristic=manhattanHeuristic):\n",
    "    \"\"\"Search the node that has the lowest combined cost and heuristic first.\"\"\"\n",
    "    fringe = PriorityQueue()\n",
    "    start_state = problem.getStartState()\n",
    "    fringe.push((start_state, [start_state], 0), 0)\n",
    "    closed_set = []\n",
    "\n",
    "    while not fringe.isEmpty():\n",
    "        node = fringe.pop()\n",
    "        curr_state = node[0]\n",
    "        curr_path = node[1]\n",
    "        curr_cost = node[2]\n",
    "        if problem.isGoalState(curr_state):\n",
    "            return curr_path\n",
    "        if curr_state not in closed_set:\n",
    "            closed_set.append(curr_state)\n",
    "            for successor in problem.getSuccessors(curr_state):\n",
    "                fringe.update((successor[0], curr_path + [successor[0]],curr_cost + successor[1]), \n",
    "                              heuristic(successor[0], problem) + curr_cost + successor[1])"
   ]
  },
  {
   "cell_type": "code",
   "execution_count": 13,
   "metadata": {},
   "outputs": [
    {
     "data": {
      "text/plain": [
       "[0, 2, 5, 6, 7, 8, 9]"
      ]
     },
     "execution_count": 13,
     "metadata": {},
     "output_type": "execute_result"
    }
   ],
   "source": [
    "aStarSearch(problem, manhattanHeuristic)"
   ]
  },
  {
   "cell_type": "markdown",
   "metadata": {},
   "source": [
    "# CONGRATULATIONS! YOU FINISHED!"
   ]
  }
 ],
 "metadata": {
  "kernelspec": {
   "display_name": "Python 3",
   "language": "python",
   "name": "python3"
  },
  "language_info": {
   "codemirror_mode": {
    "name": "ipython",
    "version": 3
   },
   "file_extension": ".py",
   "mimetype": "text/x-python",
   "name": "python",
   "nbconvert_exporter": "python",
   "pygments_lexer": "ipython3",
   "version": "3.6.3"
  }
 },
 "nbformat": 4,
 "nbformat_minor": 2
}
